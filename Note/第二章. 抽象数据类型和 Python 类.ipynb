{
 "cells": [
  {
   "cell_type": "markdown",
   "metadata": {},
   "source": [
    "# 抽象数据类型和 Python 类\n",
    "\n",
    "## 抽象数据类型\n",
    "\n",
    "Abstract data Type, ADT\n",
    "\n",
    "## 数据类型\n",
    "\n",
    "Python 基本数据类型：**逻辑类型bool，数值类型int和float，字符串str和组合数据类型**\n",
    "\n",
    "str, tuple, frozenset 是不变数据类型，list, set, dict 是可变数据类型"
   ]
  },
  {
   "cell_type": "markdown",
   "metadata": {},
   "source": [
    "## Python类\n",
    "\n",
    "在Python中，利用class定义（类定义）实现抽象数据类型。\n",
    "\n",
    "Python 中基于 class 的编程技术，称为**面向对象技术**\n",
    "\n",
    "类定义机制用于定义程序里需要的类型，定义好的一个类就像一个系统内部类型，可以产生该类型的对象（实例），实例对象具有这个类描述的行为。\n",
    "\n",
    "类里定义的**变量和函数**称为这个类的**属性**，**属性包括：数据属性和方法**\n",
    "\n",
    "执行一个类定义将创建一个类对象（类本身就是一个对象），这种对象主要支持两种操作：**属性访问和实例化**（创建这个类的实例对象）"
   ]
  },
  {
   "cell_type": "markdown",
   "metadata": {},
   "source": [
    "### 数据属性\n",
    "\n",
    "数据属性分为**类数据属性**和**实例数据属性**\n",
    "\n",
    "1. 类数据属性属于类本身，可以通过类名进行访问/修改\n",
    "2. 类数据属性也可以被类的所有实例访问/修改\n",
    "3. 在类定义之后，可以通过**类名动态添加类数据属性，新增的类属性也被类和所有实例共有**\n",
    "4. 实例数据属性只能通过实例访问\n",
    "5. 在实例生成后，还可以**动态添加实例数据属性，但是这些实例数据属性只属于该实例**\n",
    "\n",
    "**注意**：\n",
    "\n",
    "* 在类定义的方法中调用类数据属性时，要用引用的方式，如：Student.skills\n",
    "* 虽然**通过实例可以访问类属性**，但是，不建议这么做，最好还是通过类名来访问类属性，从而避免**属性隐藏**带来的不必要麻烦。"
   ]
  },
  {
   "cell_type": "code",
   "execution_count": 28,
   "metadata": {},
   "outputs": [
    {
     "name": "stdout",
     "output_type": "stream",
     "text": [
      "[]\n",
      "['Python']\n",
      "['Python']\n",
      "['__class__', '__delattr__', '__dict__', '__doc__', '__format__', '__getattribute__', '__hash__', '__init__', '__module__', '__new__', '__reduce__', '__reduce_ex__', '__repr__', '__setattr__', '__sizeof__', '__str__', '__subclasshook__', '__weakref__', 'skills']\n",
      "['__class__', '__delattr__', '__dict__', '__doc__', '__format__', '__getattribute__', '__hash__', '__init__', '__module__', '__new__', '__reduce__', '__reduce_ex__', '__repr__', '__setattr__', '__sizeof__', '__str__', '__subclasshook__', '__weakref__', 'age', 'skills']\n",
      "25\n"
     ]
    }
   ],
   "source": [
    "class Student(object):\n",
    "    skills = []\n",
    "    def __init__(self, name):\n",
    "        self.name = name\n",
    "        \n",
    "stu = Student('ly')\n",
    "print Student.skills    # 访问类数据属性\n",
    "Student.skills.append('Python')\n",
    "print Student.skills\n",
    "print stu.skills            # 通过实例也能访问类数据属性\n",
    "print dir(Student)\n",
    "Student.age = 25       # 通过类名动态添加类数据属性\n",
    "print dir(Student)\n",
    "print stu.age"
   ]
  },
  {
   "cell_type": "markdown",
   "metadata": {},
   "source": [
    "#### 特殊的类属性\n",
    "\n",
    "|类属性\t|    含义    |\n",
    "|:------        |:-------------|\n",
    "|\\__name\\__|\t类的名字（字符串）|\n",
    "|\\__doc\\__\t|类的文档     |\n",
    "|\\__bases\\__\t|类的所有父类组成的元组 |\n",
    "|\\__dict\\__\t|类的属性组成的字典 |\n",
    "|\\__module\\__\t|类所属的模块 |\n",
    "|\\__class\\__\t|类对象的类型 |"
   ]
  },
  {
   "cell_type": "code",
   "execution_count": 22,
   "metadata": {},
   "outputs": [
    {
     "name": "stdout",
     "output_type": "stream",
     "text": [
      "Student\n",
      "Student calss\n",
      "(<type 'object'>,)\n",
      "<type 'type'>\n",
      "<class '__main__.Student'>\n",
      "True\n",
      "['__class__', '__delattr__', '__dict__', '__doc__', '__format__', '__getattribute__', '__hash__', '__init__', '__module__', '__new__', '__reduce__', '__reduce_ex__', '__repr__', '__setattr__', '__sizeof__', '__str__', '__subclasshook__', '__weakref__', 'skills']\n",
      "['__class__', '__delattr__', '__dict__', '__doc__', '__format__', '__getattribute__', '__hash__', '__init__', '__module__', '__new__', '__reduce__', '__reduce_ex__', '__repr__', '__setattr__', '__sizeof__', '__str__', '__subclasshook__', '__weakref__', 'name', 'skills']\n",
      "Student\n"
     ]
    },
    {
     "ename": "AttributeError",
     "evalue": "'Student' object has no attribute '__name__'",
     "output_type": "error",
     "traceback": [
      "\u001b[0;31m---------------------------------------------------------------------------\u001b[0m",
      "\u001b[0;31mAttributeError\u001b[0m                            Traceback (most recent call last)",
      "\u001b[0;32m<ipython-input-22-c742450b1a8a>\u001b[0m in \u001b[0;36m<module>\u001b[0;34m()\u001b[0m\n\u001b[1;32m     17\u001b[0m \u001b[0;34m\u001b[0m\u001b[0m\n\u001b[1;32m     18\u001b[0m \u001b[0;32mprint\u001b[0m \u001b[0mStudent\u001b[0m\u001b[0;34m.\u001b[0m\u001b[0m__name__\u001b[0m    \u001b[0;31m# 通过类Student能调用__name__\u001b[0m\u001b[0;34m\u001b[0m\u001b[0m\n\u001b[0;32m---> 19\u001b[0;31m \u001b[0;32mprint\u001b[0m \u001b[0mstu\u001b[0m\u001b[0;34m.\u001b[0m\u001b[0m__name__\u001b[0m            \u001b[0;31m# 但是通过实例对象不能调用__name__\u001b[0m\u001b[0;34m\u001b[0m\u001b[0m\n\u001b[0m",
      "\u001b[0;31mAttributeError\u001b[0m: 'Student' object has no attribute '__name__'"
     ]
    }
   ],
   "source": [
    "class Student(object):\n",
    "    \"\"\"Student calss\"\"\"\n",
    "    skills = []\n",
    "    def __init__(self, name):\n",
    "        self.name = name\n",
    "\n",
    "stu = Student('ly')\n",
    "print Student.__name__    # 类名：Student\n",
    "print Student.__doc__       # 类的说明文档\n",
    "print Student.__bases__\n",
    "print Student.__class__     # 类的__class__\n",
    "print stu.__class__             # 实例对象的__class__\n",
    "print isinstance(stu, Student)\n",
    "\n",
    "print dir(Student)\n",
    "print dir(stu)\n",
    "\n",
    "print Student.__name__    # 通过类Student能调用__name__\n",
    "print stu.__name__            # 但是通过实例对象不能调用__name__"
   ]
  },
  {
   "cell_type": "markdown",
   "metadata": {},
   "source": [
    "### 方法\n",
    "\n",
    "* 实例方法\n",
    "* 静态方法\n",
    "* 类方法\n",
    "\n",
    "#### 实例方法\n",
    "\n",
    "如果希望类里的一个函数能作为该类实例的方法，这个函数至少需要有一个**表示其调用对象的形参**，放在函数定义参数表的第一个位置，通常取名self（可以用任何名字，这只是Python社区的习惯）。\n",
    "\n",
    "**初始化方法**是一种特殊的实例方法。\n",
    "\n",
    "作用：新建一个实例对象时，自动调用初始化方法，给实例对象绑定一些属性。\n"
   ]
  },
  {
   "cell_type": "code",
   "execution_count": 16,
   "metadata": {},
   "outputs": [
    {
     "name": "stdout",
     "output_type": "stream",
     "text": [
      "ly\n",
      "ly\n"
     ]
    }
   ],
   "source": [
    "class Animal(object):\n",
    "    # 初始化方法\n",
    "    def __init__(self, name):\n",
    "        self.name = name\n",
    "    \n",
    "    # 普通实例方法\n",
    "    def get_name(self):\n",
    "        return self.name\n",
    "        \n",
    "animal = Animal(name='ly')\n",
    "print animal.name\n",
    "print animal.get_name()"
   ]
  },
  {
   "cell_type": "markdown",
   "metadata": {},
   "source": [
    "定义一个Animal类，初始化方法把形参name赋值给实例对象数据属性name\n",
    "\n",
    "通过animal.get_name()调用实例方法，**实例对象animal作为get_name的第一个实参约束到函数的第一个形参self**，所以在实例方法定义中对self的操作都是对调用这个实例方法的实例的操作。\n",
    "\n",
    "**总结**：实例方法能够对实例对象操作，在定义时至少有一个形参，其中第一个形参通常是self，当实例对象调用方法时，这个对象就被约束到self上（初始化时也类似）。"
   ]
  },
  {
   "cell_type": "markdown",
   "metadata": {},
   "source": [
    "#### @staticmethod 静态方法\n",
    "\n",
    "静态方法就是在类里面定义的**普通函数**，但根据**信息局部化**的原则，局部使用的功能不应该定义为全局函数，所以把它定义在类内部。\n",
    "\n",
    "静态方法的参数表 **不应该有 self 参数**，在其他方面也没有任何限制.\n",
    "\n",
    "它**不会对类的实例进行操作**，但**类和类的实例都可以调用静态方法**，可以从其定义所在类的名字出发通过圆点形式调用，也可以从该类的对象（实例）通过圆点形式调用。"
   ]
  },
  {
   "cell_type": "code",
   "execution_count": 13,
   "metadata": {},
   "outputs": [
    {
     "name": "stdout",
     "output_type": "stream",
     "text": [
      "hello\n",
      "hello\n"
     ]
    }
   ],
   "source": [
    "class Animal(object):\n",
    "    @staticmethod\n",
    "    def hello():\n",
    "        print 'hello'\n",
    "        \n",
    "animal = Animal()\n",
    "Animal.hello()    # 类调用\n",
    "animal.hello()    # 实例对象调用"
   ]
  },
  {
   "cell_type": "markdown",
   "metadata": {},
   "source": [
    "#### @classmethod 类方法\n",
    "\n",
    "类方法和实例方法一样，都有参数限制，在定义类方法时必须有一个表示其调用类的参数，习惯用 cls 作为参数名，**通常用类方法实现与本类所有对象有关的操作**。类和实例对象都能调用类方法。"
   ]
  },
  {
   "cell_type": "code",
   "execution_count": 18,
   "metadata": {},
   "outputs": [
    {
     "name": "stdout",
     "output_type": "stream",
     "text": [
      "2\n",
      "2\n"
     ]
    }
   ],
   "source": [
    "class Countable(object):\n",
    "    counter = 0\n",
    "    def __init__(self):\n",
    "        Countable.counter += 1    # 在方法中调用类数据属性要用引用的方式\n",
    "        \n",
    "    @classmethod\n",
    "    def get_count(cls):\n",
    "        return Countable.counter\n",
    "\n",
    "a = Countable()\n",
    "b = Countable()\n",
    "print Countable.get_count()    # 类调用\n",
    "print a.get_count()                   # 实例对象调用"
   ]
  },
  {
   "cell_type": "markdown",
   "metadata": {},
   "source": [
    "### 私有变量\n",
    "\n",
    "官方教程：\n",
    "\"Private\" instance variables that cannot be accessed except from inside an object don’t exist in Python, However, there is a convention that is followed by most Python code: **a name prefixed with an underscore (e.g. \\_spam) should be treated as a non-public part of the API (whether it is a function, a method or a data member)**. It should be considered an implementation detail and subject to change without notice. \n",
    "\n",
    "在内部，python使用一种**name mangling** 技术，将 \\__membername替换成 \\_classname\\__membername，所以你在外部使用原来的私有成员的名字时，会提示找不到，可以通过这种方式访问私有变量，但是强烈不建议，因为不同版本的Python解释器可能会改成不同的名字。"
   ]
  },
  {
   "cell_type": "code",
   "execution_count": 10,
   "metadata": {},
   "outputs": [
    {
     "name": "stdout",
     "output_type": "stream",
     "text": [
      "25\n",
      "ly\n"
     ]
    },
    {
     "ename": "AttributeError",
     "evalue": "'Animal' object has no attribute 'name'",
     "output_type": "error",
     "traceback": [
      "\u001b[0;31m---------------------------------------------------------------------------\u001b[0m",
      "\u001b[0;31mAttributeError\u001b[0m                            Traceback (most recent call last)",
      "\u001b[0;32m<ipython-input-10-29d7b0ef7102>\u001b[0m in \u001b[0;36m<module>\u001b[0;34m()\u001b[0m\n\u001b[1;32m      7\u001b[0m \u001b[0;32mprint\u001b[0m \u001b[0manimal\u001b[0m\u001b[0;34m.\u001b[0m\u001b[0mage\u001b[0m\u001b[0;34m\u001b[0m\u001b[0m\n\u001b[1;32m      8\u001b[0m \u001b[0;32mprint\u001b[0m \u001b[0manimal\u001b[0m\u001b[0;34m.\u001b[0m\u001b[0m_Animal__name\u001b[0m\u001b[0;34m\u001b[0m\u001b[0m\n\u001b[0;32m----> 9\u001b[0;31m \u001b[0;32mprint\u001b[0m \u001b[0manimal\u001b[0m\u001b[0;34m.\u001b[0m\u001b[0mname\u001b[0m\u001b[0;34m\u001b[0m\u001b[0m\n\u001b[0m",
      "\u001b[0;31mAttributeError\u001b[0m: 'Animal' object has no attribute 'name'"
     ]
    }
   ],
   "source": [
    "class Animal(object):\n",
    "    def __init__(self, name, age):\n",
    "        self.__name = name\n",
    "        self.age = age\n",
    "    \n",
    "animal = Animal('ly', 25)\n",
    "print animal.age\n",
    "print animal._Animal__name\n",
    "print animal.name"
   ]
  },
  {
   "cell_type": "markdown",
   "metadata": {},
   "source": [
    "通常在类中定义方法去**访问和修改**这些私有变量。\n",
    "\n",
    "1. 数据封装，确保了外部代码不能随意修改对象内部的状态，通过访问限制的保护，代码更加健壮。\n",
    "2. 通过定义的方法修改参数，可以对参数做检查，同样使代码健壮。"
   ]
  },
  {
   "cell_type": "code",
   "execution_count": 9,
   "metadata": {},
   "outputs": [
    {
     "name": "stdout",
     "output_type": "stream",
     "text": [
      "25\n",
      "26\n"
     ]
    }
   ],
   "source": [
    "class Animal(object):\n",
    "    def __init__(self, name, age):\n",
    "        self.__name = name\n",
    "        self.__age = age\n",
    "        \n",
    "    def get_age(self):\n",
    "        return self.__age\n",
    "    \n",
    "    def modified_age(self, age):\n",
    "        if age > 0 and age < 120:    # 参数检查\n",
    "            self.__age = age\n",
    "\n",
    "animal = Animal('ly', 25)\n",
    "print  animal.get_age()\n",
    "animal.modified_age(26)\n",
    "print  animal.get_age()"
   ]
  },
  {
   "cell_type": "markdown",
   "metadata": {},
   "source": [
    "* 约定把以**一个下划线开头**的名字做为实例对象内部的东西，永远不从对象的外部访问他们\n",
    "* **两个下划线开头**（不是以两个下划线结尾），在类之外采用属性访问方式直接写这个名字将无法找到他\n",
    "\n",
    "注意：以**两个下划线开头和结尾**的是特殊变量（如：\\__doc\\__），特殊变量是可以直接访问的。"
   ]
  },
  {
   "cell_type": "markdown",
   "metadata": {},
   "source": [
    "### 继承\n",
    "\n",
    "基于类和对象的程序设计成为面向对象的程序设计（OOP）\n",
    "\n",
    "1. 定义类\n",
    "2. 创建实例对象\n",
    "3. 调用对象的方法完成计算工作，包括对象间的信息交换\n",
    "\n",
    "#### 基类 派生类\n",
    "\n",
    "替换原理：一个类的实例对象的上下文可以使用其派生类的实例对象\n",
    "\n",
    "Python内置函数**issubclass**检查两个类是否有继承关系"
   ]
  },
  {
   "cell_type": "code",
   "execution_count": 11,
   "metadata": {},
   "outputs": [
    {
     "name": "stdout",
     "output_type": "stream",
     "text": [
      "True\n",
      "True True\n"
     ]
    }
   ],
   "source": [
    "class Mystr(str):    # 继承自str\n",
    "    pass\n",
    "\n",
    "s = Mystr(123)\n",
    "print issubclass(Mystr, str)\n",
    "print isinstance(s, str), isinstance(s, Mystr)"
   ]
  },
  {
   "cell_type": "markdown",
   "metadata": {},
   "source": [
    "**注意**：\n",
    "\n",
    "**说明文档**对于类，函数/方法，以及模块来说是唯一的，也就是说\\__doc\\__属性是不能从父类中继承来的。"
   ]
  },
  {
   "cell_type": "code",
   "execution_count": 21,
   "metadata": {},
   "outputs": [
    {
     "name": "stdout",
     "output_type": "stream",
     "text": [
      "\n",
      "    parent class\n",
      "    \n",
      "None\n",
      "(<class '__main__.Parent'>,)\n",
      "(<type 'object'>,)\n",
      "<type 'type'>\n",
      "<type 'type'>\n",
      "<class '__main__.Parent'>\n",
      "<class '__main__.Child'>\n"
     ]
    }
   ],
   "source": [
    "class Parent(object):\n",
    "    '''\n",
    "    parent class\n",
    "    '''\n",
    "    numList = []\n",
    "    def numAdd(self, a, b):\n",
    "        return a+b\n",
    " \n",
    "class Child(Parent):\n",
    "    pass\n",
    "\n",
    "parent = Parent()\n",
    "child = Child()\n",
    "print Parent.__doc__\n",
    "print Child.__doc__    # 子类无法继承__doc__\n",
    "print Child.__bases__\n",
    "print Parent.__bases__\n",
    "print Parent.__class__    # 类型\n",
    "print Child.__class__\n",
    "print parent.__class__\n",
    "print child.__class__"
   ]
  },
  {
   "cell_type": "markdown",
   "metadata": {},
   "source": [
    "#### 方法查找\n",
    "\n",
    "一个实例对象调用方法，Python解释器需要确定调用的函数（在哪个类里定义的函数），这个过程**沿着继承关系进行**。 \n",
    "\n",
    "有一点需要注意：\n",
    "\n",
    "* **动态约束**\n",
    "* **静态约束**\n",
    "\n",
    "在程序设计领域，通过**动态约束**确定调用关系的函数称为**虚函数**"
   ]
  },
  {
   "cell_type": "code",
   "execution_count": 15,
   "metadata": {},
   "outputs": [
    {
     "name": "stdout",
     "output_type": "stream",
     "text": [
      "Child.f.g\n"
     ]
    }
   ],
   "source": [
    "class Parent(object):\n",
    "    def f(self):\n",
    "        self.g()\n",
    "    \n",
    "    def g(self):\n",
    "        print 'Parent.f.g'\n",
    "        \n",
    "class Child(Parent):\n",
    "    def g(self):\n",
    "        print 'Child.f.g'\n",
    "        \n",
    "child = Child()\n",
    "child.f()"
   ]
  },
  {
   "cell_type": "markdown",
   "metadata": {},
   "source": [
    "### 标准函数 super()\n",
    "\n",
    "不要一说到 super 就想到父类！**super 指的是 MRO 中的下一个类！**\n",
    "\n",
    "MRO: Method Resolution Order, 方法解析顺序，代表类继承顺序\n",
    "\n",
    "```python\n",
    "def super(cls, inst):\n",
    "    mro = inst.__class__.mro() # Always the most derived class\n",
    "    return mro[mro.index(cls) + 1]\n",
    "```\n",
    "super()的作用：\n",
    "1. 通过inst返回所属类的mro\n",
    "2. 通过cls定位当前mro中的index，并返回mro中的下一个\n"
   ]
  },
  {
   "cell_type": "code",
   "execution_count": 27,
   "metadata": {},
   "outputs": [
    {
     "name": "stdout",
     "output_type": "stream",
     "text": [
      "enter B\n",
      "enter C\n",
      "this is Root\n",
      "leave C\n",
      "leave B\n",
      "(<class '__main__.D'>, <class '__main__.B'>, <class '__main__.C'>, <class '__main__.Root'>, <type 'object'>)\n",
      "(<class '__main__.D'>, <class '__main__.B'>, <class '__main__.C'>, <class '__main__.Root'>, <type 'object'>)\n",
      "[<class '__main__.D'>, <class '__main__.B'>, <class '__main__.C'>, <class '__main__.Root'>, <type 'object'>]\n"
     ]
    }
   ],
   "source": [
    "class Root(object):\n",
    "    def __init__(self):\n",
    "        print(\"this is Root\")\n",
    "\n",
    "class B(Root):\n",
    "    def __init__(self):\n",
    "        print(\"enter B\")\n",
    "        super(B, self).__init__()\n",
    "        print(\"leave B\")\n",
    "\n",
    "class C(Root):\n",
    "    def __init__(self):\n",
    "        print(\"enter C\")\n",
    "        super(C, self).__init__()\n",
    "        print(\"leave C\")\n",
    "\n",
    "class D(B, C):\n",
    "    pass\n",
    "\n",
    "d = D()\n",
    "print(d.__class__.__mro__)\n",
    "\n",
    "print D.__mro__\n",
    "print D.mro()"
   ]
  },
  {
   "cell_type": "markdown",
   "metadata": {},
   "source": [
    "首先建立一个实例对象，会自动调用初始化方法，为什么 B 的 __init__ 会被调用：因为 D 没有定义 __init__，所以会在 MRO 中找下一个类，去查看它有没有定义 __init__，也就是去调用 B 的 __init__。\n",
    "\n",
    "**在 MRO 中，基类永远出现在派生类后面，如果有多个基类，基类的相对顺序保持不变**\n",
    "\n",
    "上面的例子的**继承链（MRO顺序）：[D, B, C, Root, Object**]"
   ]
  },
  {
   "cell_type": "markdown",
   "metadata": {},
   "source": [
    "### \\__slots\\__\n",
    "\n",
    "当我们通过一个类创建了实例之后，仍然可以给**实例动态添加属性**，但是这些属性只属于这个实例。\n",
    "\n",
    "有些时候，我们可以需要限制类实例对象的属性，这时就要用到类中的\\__slots\\__属性了。\\__slots\\__属性对于一个tuple，**只有这个tuple中出现的属性可以被类实例使用**。\n",
    "\n",
    "* 使用\\__slots\\__要注意，\\__slots\\__定义的属性仅对当前类的实例起作用，对继承的子类实例是不起作用的\n",
    "* 如果子类本身也有\\__slots\\__属性，子类的属性就是自身的\\__slots\\__加上父类的\\__slots\\__\n",
    "\n",
    "实例不超过万级别的类，__slots__是不太值得使用的。"
   ]
  },
  {
   "cell_type": "code",
   "execution_count": 37,
   "metadata": {},
   "outputs": [
    {
     "name": "stdout",
     "output_type": "stream",
     "text": [
      "ly\n",
      "25\n"
     ]
    }
   ],
   "source": [
    "class Parent(object):\n",
    "    __slots__ = ('name')          # __slots__\n",
    "    def __init__(self, name):\n",
    "        self.name = name\n",
    "        \n",
    "a = Parent('ly')\n",
    "print a.name\n",
    "Parent.age = 25    # slots对通过类名动态添加属性没有限制\n",
    "print a.age"
   ]
  },
  {
   "cell_type": "markdown",
   "metadata": {},
   "source": [
    "### \\__new\\__"
   ]
  },
  {
   "cell_type": "markdown",
   "metadata": {},
   "source": [
    "### 编程实践\n",
    "\n",
    "通常把类的定义写在模块最外层，这样定义的类在整个模块（.py文件）都能使用，而且允许其他模块通过 import 语句导入和使用"
   ]
  },
  {
   "cell_type": "markdown",
   "metadata": {},
   "source": [
    "## Python 异常\n",
    "\n",
    "Python 的**异常都是类（class）**，运行时产生异常就是生成相应类的实例对象，异常处理机制完全基于面向对象的概念和性质。\n",
    "\n",
    "所有异常类的基类 **BaseException**，其最主要的子类是 **Exception**，**内置异常类**都是从这个类直接或间接派生。\n",
    "\n",
    "捕捉异常语句：**try: ... except ... finally:...**\n"
   ]
  },
  {
   "cell_type": "code",
   "execution_count": 44,
   "metadata": {},
   "outputs": [
    {
     "name": "stdout",
     "output_type": "stream",
     "text": [
      "error\n",
      "end\n"
     ]
    }
   ],
   "source": [
    "try:\n",
    "    a = 5 / 0\n",
    "    \n",
    "except ZeroDivisionError:\n",
    "    print 'error'\n",
    "    \n",
    "finally:\n",
    "    print 'end'"
   ]
  }
 ],
 "metadata": {
  "anaconda-cloud": {},
  "kernelspec": {
   "display_name": "Python [conda root]",
   "language": "python",
   "name": "conda-root-py"
  },
  "language_info": {
   "codemirror_mode": {
    "name": "ipython",
    "version": 2
   },
   "file_extension": ".py",
   "mimetype": "text/x-python",
   "name": "python",
   "nbconvert_exporter": "python",
   "pygments_lexer": "ipython2",
   "version": "2.7.12"
  }
 },
 "nbformat": 4,
 "nbformat_minor": 1
}
