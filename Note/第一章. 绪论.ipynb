{
 "cells": [
  {
   "cell_type": "markdown",
   "metadata": {},
   "source": [
    "# 绪论\n",
    "\n",
    "## 数据结构"
   ]
  },
  {
   "cell_type": "code",
   "execution_count": 2,
   "metadata": {},
   "outputs": [
    {
     "data": {
      "text/plain": [
       "[0, 1, 2, 3, 4]"
      ]
     },
     "execution_count": 2,
     "metadata": {},
     "output_type": "execute_result"
    }
   ],
   "source": [
    "range(5)"
   ]
  },
  {
   "cell_type": "code",
   "execution_count": 3,
   "metadata": {},
   "outputs": [
    {
     "data": {
      "text/plain": [
       "[0, 1, 2, 3, 4]"
      ]
     },
     "execution_count": 3,
     "metadata": {},
     "output_type": "execute_result"
    }
   ],
   "source": [
    "list(range(5))"
   ]
  },
  {
   "cell_type": "markdown",
   "metadata": {},
   "source": [
    "D = (E, R)\n",
    "D 是数据结构，E 是 D 的元素集合，R 是元素之间的某种关系\n",
    "\n",
    "典型的数据结构：\n",
    "\n",
    "* 集合结构：元素之间没有明确的关系，R 是空集，最简单的一类数据结构\n",
    "* 序列结构：元素之间有一种明确的先后顺序关系\n",
    "* 层次结构：数据元素分属不同的层次\n",
    "* 树形结构：层次结构中最简单的一种关系\n",
    "* 图结构：任意复杂的相互联系\n",
    "\n",
    "### 结构性数据结构和功能性数据结构\n",
    "\n",
    "结构性数据结构：最重要的特征就是它们的结构，常用的数据结构，如线性结构、树结构和图结构。\n",
    "\n",
    "支持元素存储和访问的**数据结构**称为**容器**\n",
    "\n",
    "功能性数据结构：容器是功能性数据结构，包括：栈 队列 优先队列 字典等。由于只有功能要求，通常把这类结构映射到某种结构性数据结构。\n",
    "\n",
    "## 计算机内存\n",
    "\n",
    "基本假设：基于地址访问内存单元是O（1）操作\n",
    "\n",
    "建立的每个对象都有一个确定的唯一标识。**id(object) = 唯一标志 = 对象的存储位置**\n",
    "\n",
    "## Python的几个标准数据结构\n",
    "\n",
    "* list（表）可以包含任意多个任意类型的元素，元素访问和修改都是o(1)时间，是可变对象；\n",
    "* tuple（元组）\n",
    "* dict（字典）支持基于键的数据存储和检索，键是不可变对象，高效检索"
   ]
  },
  {
   "cell_type": "code",
   "execution_count": 9,
   "metadata": {},
   "outputs": [
    {
     "name": "stdout",
     "output_type": "stream",
     "text": [
      "id(a):30339448\n",
      "id(b):140337728895288\n",
      "30339448 30339448\n",
      "2 1\n",
      "30339424 30339448\n",
      "[1, 2, 3, 4] [1, 2, 3, 4]\n",
      "140337907903016 140337907903016\n",
      "140337728836744 140337728836744\n",
      "[1, 2, 3, 4] [1, 2, 3]\n",
      "140337907903016 140337728836744\n",
      "30339448 30339448\n"
     ]
    }
   ],
   "source": [
    "a = 1\n",
    "print 'id(a):{}'.format(id(a))  # Python标准函数取得对象的标示\n",
    "def b():\n",
    "    print \"Hello, world\"\n",
    "print 'id(b):{}'.format(id(b))\n",
    "\n",
    "# 赋值\n",
    "a = 1    # 基本数据类型（不可变对象）\n",
    "b = a\n",
    "print id(a), id(b)\n",
    "a = 2\n",
    "print a, b\n",
    "print id(a), id(b)\n",
    "\n",
    "a = [1, 2, 3]    # list是可变对象\n",
    "b = a\n",
    "a.append(4)    # 对a修改，但是a指向的list的地址没变\n",
    "print a, b\n",
    "print id(a), id(b)\n",
    "\n",
    "a = [1, 2, 3]    # list是可变对象\n",
    "b = a\n",
    "print id(a), id(b)\n",
    "a = [1, 2, 3, 4]    # 新建一个list\n",
    "print a, b\n",
    "print id(a), id(b)\n",
    "\n",
    "a = 1\n",
    "b = 1\n",
    "print id(a), id(b)"
   ]
  },
  {
   "cell_type": "markdown",
   "metadata": {},
   "source": [
    "对于语句：a = 1，a 是变量，1是值对像，**变量与其值对象的关联通过链接实现**"
   ]
  }
 ],
 "metadata": {
  "anaconda-cloud": {},
  "kernelspec": {
   "display_name": "Python [conda root]",
   "language": "python",
   "name": "conda-root-py"
  },
  "language_info": {
   "codemirror_mode": {
    "name": "ipython",
    "version": 2
   },
   "file_extension": ".py",
   "mimetype": "text/x-python",
   "name": "python",
   "nbconvert_exporter": "python",
   "pygments_lexer": "ipython2",
   "version": "2.7.12"
  }
 },
 "nbformat": 4,
 "nbformat_minor": 1
}
